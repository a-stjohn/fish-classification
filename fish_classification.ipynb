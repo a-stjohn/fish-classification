{
 "cells": [
  {
   "cell_type": "code",
   "execution_count": 5,
   "metadata": {},
   "outputs": [],
   "source": [
    "import pandas as pd\n",
    "import numpy as np\n",
    "from tensorflow.keras import layers, optimizers, Model\n",
    "\n",
    "# for image handling\n",
    "import matplotlib.pyplot as plt\n",
    "from PIL import Image\n",
    "from pathlib import Path\n"
   ]
  },
  {
   "cell_type": "code",
   "execution_count": 34,
   "metadata": {},
   "outputs": [],
   "source": [
    "# Lets check out some of the data\n",
    "pictures_dir = Path('/Users/aaron.stjohn/Documents/tf_projects/NA_Fish_Dataset')"
   ]
  },
  {
   "cell_type": "code",
   "execution_count": 49,
   "metadata": {},
   "outputs": [],
   "source": [
    "for i in pictures_dir.glob('**/*'):\n",
    "    # make sure the image is an image; png or jpg\n",
    "    if not i.name.endswith('png') and not i.name.endswith('JPG'):\n",
    "        continue\n",
    "    # convert image to gray scale. Reduces the # of params without losing\n",
    "    # information\n",
    "    img = Image.open(i).convert('L')\n",
    "    try:\n",
    "        # create the type of fish dirs\n",
    "        Path.mkdir(Path(f'{pictures_dir.as_posix()}/gray_fish/{i.parent.name}'))\n",
    "    except FileExistsError:\n",
    "        continue\n",
    "    img.save(\n",
    "        f'{pictures_dir.as_posix()}/gray_fish/{i.parent.name}/{i.stem}_gray{i.suffix}'\n",
    "    )\n",
    "    # print(f'{pictures_dir.as_posix()}/{i.parent.name}/{i.stem}_gray{i.suffix}')"
   ]
  },
  {
   "cell_type": "code",
   "execution_count": 46,
   "metadata": {},
   "outputs": [],
   "source": [
    "# Path.mkdir(Path(f'{pictures_dir.as_posix()}/gray_fish/{i.parent.name}'))"
   ]
  }
 ],
 "metadata": {
  "interpreter": {
   "hash": "a39b4cec51d2a338906302f03f13c4614af0fdad9b82ff0d3b5a6944deb9d5f3"
  },
  "kernelspec": {
   "display_name": "Python 3.9.7 64-bit ('py39_tf': conda)",
   "language": "python",
   "name": "python3"
  },
  "language_info": {
   "codemirror_mode": {
    "name": "ipython",
    "version": 3
   },
   "file_extension": ".py",
   "mimetype": "text/x-python",
   "name": "python",
   "nbconvert_exporter": "python",
   "pygments_lexer": "ipython3",
   "version": "3.9.7"
  },
  "orig_nbformat": 4
 },
 "nbformat": 4,
 "nbformat_minor": 2
}
