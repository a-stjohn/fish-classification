{
 "cells": [
  {
   "cell_type": "code",
   "execution_count": 1,
   "metadata": {},
   "outputs": [
    {
     "name": "stderr",
     "output_type": "stream",
     "text": [
      "2021-12-16 20:22:03.219852: W tensorflow/stream_executor/platform/default/dso_loader.cc:64] Could not load dynamic library 'libcudart.so.11.0'; dlerror: libcudart.so.11.0: cannot open shared object file: No such file or directory\n",
      "2021-12-16 20:22:03.219883: I tensorflow/stream_executor/cuda/cudart_stub.cc:29] Ignore above cudart dlerror if you do not have a GPU set up on your machine.\n"
     ]
    }
   ],
   "source": [
    "import pandas as pd\n",
    "import numpy as np\n",
    "from tensorflow.keras import layers, optimizers, Model\n",
    "\n",
    "# for image handling\n",
    "import matplotlib.pyplot as plt\n",
    "from PIL import Image\n",
    "from pathlib import Path\n"
   ]
  },
  {
   "cell_type": "code",
   "execution_count": 2,
   "metadata": {},
   "outputs": [],
   "source": [
    "# Lets check out some of the data\n",
    "pictures_dir = Path('/Users/aaron.stjohn/Documents/tf_projects/NA_Fish_Dataset')"
   ]
  },
  {
   "cell_type": "code",
   "execution_count": 49,
   "metadata": {},
   "outputs": [],
   "source": [
    "for i in pictures_dir.rglob('*'):\n",
    "    if not i.name.lower().endswith(('.png', '.jpg')):\n",
    "        # not a file we care about\n",
    "        continue\n",
    "\n",
    "    # create the gray_fish parent dir for each category of fish\n",
    "    parent_dir = pictures_dir.joinpath(f'gray_fish/{i.parent.name}').absolute()\n",
    "    parent_dir.mkdir(parents=True, exist_ok=True)\n",
    "\n",
    "    # convert image to gray scale. Reduces the # of params without losing\n",
    "    # information\n",
    "    img = Image.open(i).convert('L')\n",
    "\n",
    "    # the gray scale file's final resting place\n",
    "    new_file = parent_dir.joinpath(f'{i.stem}_gray{i.suffix}').absolute()\n",
    "    img.save(new_file)\n",
    "\n",
    "    print(new_file)"
   ]
  },
  {
   "cell_type": "code",
   "execution_count": 46,
   "metadata": {},
   "outputs": [],
   "source": [
    "# Path.mkdir(Path(f'{pictures_dir.as_posix()}/gray_fish/{i.parent.name}'))"
   ]
  }
 ],
 "metadata": {
  "interpreter": {
   "hash": "a39b4cec51d2a338906302f03f13c4614af0fdad9b82ff0d3b5a6944deb9d5f3"
  },
  "kernelspec": {
   "display_name": "Python 3.9.7 64-bit ('py39_tf': conda)",
   "language": "python",
   "name": "python3"
  },
  "language_info": {
   "codemirror_mode": {
    "name": "ipython",
    "version": 3
   },
   "file_extension": ".py",
   "mimetype": "text/x-python",
   "name": "python",
   "nbconvert_exporter": "python",
   "pygments_lexer": "ipython3",
   "version": "3.8.10"
  },
  "orig_nbformat": 4
 },
 "nbformat": 4,
 "nbformat_minor": 2
}
